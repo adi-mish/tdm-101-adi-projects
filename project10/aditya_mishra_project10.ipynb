{
 "cells": [
  {
   "cell_type": "markdown",
   "id": "be02a957-7133-4d02-818e-fedeb3cecb05",
   "metadata": {},
   "source": [
    "# Project 10 -- Aditya Mishra"
   ]
  },
  {
   "cell_type": "markdown",
   "id": "a1228853-dd19-4ab2-89e0-0394d7d72de3",
   "metadata": {},
   "source": [
    "**TA Help:** N/A\n",
    "    \n",
    "**Collaboration:** N/A"
   ]
  },
  {
   "cell_type": "code",
   "execution_count": 58,
   "id": "7ed26297-c297-405a-8136-77336f3c60b1",
   "metadata": {
    "tags": []
   },
   "outputs": [],
   "source": [
    "library(data.table)"
   ]
  },
  {
   "cell_type": "code",
   "execution_count": 59,
   "id": "1e926a3a-8b66-42e5-a3bc-ce3d479785e9",
   "metadata": {
    "tags": []
   },
   "outputs": [],
   "source": [
    "options(jupyter.rich_display = F)"
   ]
  },
  {
   "cell_type": "code",
   "execution_count": 60,
   "id": "82a4040b-afe3-489a-a0c8-21d5a4e7b415",
   "metadata": {},
   "outputs": [],
   "source": [
    "orders <- fread(\"/anvil/projects/tdm/data/restaurant/orders.csv\")"
   ]
  },
  {
   "cell_type": "code",
   "execution_count": 61,
   "id": "54423e5b-14eb-4b72-b9c4-eb14d20919ea",
   "metadata": {},
   "outputs": [],
   "source": [
    "vendors <- fread(\"/anvil/projects/tdm/data/restaurant/vendors.csv\")"
   ]
  },
  {
   "cell_type": "markdown",
   "id": "6180e742-8e39-4698-98ff-5b00c8cf8ea0",
   "metadata": {},
   "source": [
    "## Question 1"
   ]
  },
  {
   "cell_type": "code",
   "execution_count": 62,
   "id": "49445606-d363-41b4-b479-e319a9a84c01",
   "metadata": {},
   "outputs": [],
   "source": [
    "#1a.\n",
    "fries_rows <- grepl(\"Fries\", vendors$vendor_tag_name)"
   ]
  },
  {
   "cell_type": "code",
   "execution_count": 63,
   "id": "d23b6713-0c9a-481e-90d4-f506e0b95ac2",
   "metadata": {},
   "outputs": [],
   "source": [
    "vendors_fries <- subset(vendors, fries_rows)"
   ]
  },
  {
   "cell_type": "code",
   "execution_count": 64,
   "id": "9f42a364-0b64-4549-9ff3-d1062011315f",
   "metadata": {},
   "outputs": [],
   "source": [
    "#1b.\n",
    "fries_df <- grep(\"Fries\", vendors$vendor_tag_name)"
   ]
  },
  {
   "cell_type": "code",
   "execution_count": 65,
   "id": "6832a1b5-4ed5-4697-9eda-ed72daa5db93",
   "metadata": {},
   "outputs": [],
   "source": [
    "vendors_fries2 <- vendors[fries_df, ]"
   ]
  },
  {
   "cell_type": "code",
   "execution_count": 66,
   "id": "2ace04ab-77f7-4af7-a287-d5aa06e87ff1",
   "metadata": {
    "tags": []
   },
   "outputs": [
    {
     "data": {
      "text/plain": [
       "[1] 20 59"
      ]
     },
     "metadata": {},
     "output_type": "display_data"
    }
   ],
   "source": [
    "#1c.\n",
    "dim(vendors_fries)"
   ]
  },
  {
   "cell_type": "code",
   "execution_count": 67,
   "id": "7420f0a7-d5b8-4d4e-acdd-2902219c3c7c",
   "metadata": {},
   "outputs": [
    {
     "data": {
      "text/plain": [
       "[1] 20 59"
      ]
     },
     "metadata": {},
     "output_type": "display_data"
    }
   ],
   "source": [
    "dim(vendors_fries2)"
   ]
  },
  {
   "cell_type": "markdown",
   "id": "fc601975-35ed-4680-a4e1-0273ee3cc047",
   "metadata": {},
   "source": [
    "## Question 2"
   ]
  },
  {
   "cell_type": "code",
   "execution_count": 68,
   "id": "a16336a1-1ef0-41e8-bc7c-49387db27497",
   "metadata": {},
   "outputs": [],
   "source": [
    "#2a.\n",
    "mydf <- table(vendors$delivery_charge)"
   ]
  },
  {
   "cell_type": "code",
   "execution_count": 69,
   "id": "c5520f23-502a-4d89-9a96-7b9e67f32d9b",
   "metadata": {},
   "outputs": [
    {
     "data": {
      "text/plain": [
       "\n",
       "  0 0.7 \n",
       " 41  59 "
      ]
     },
     "metadata": {},
     "output_type": "display_data"
    }
   ],
   "source": [
    "#2b.\n",
    "prop.table(mydf) * 100"
   ]
  },
  {
   "cell_type": "markdown",
   "id": "8e586edd-ff26-4ce2-8f6b-2424b26f2929",
   "metadata": {},
   "source": [
    "## Question 3"
   ]
  },
  {
   "cell_type": "code",
   "execution_count": 70,
   "id": "bbe0f40d-9655-4653-9ca8-886bdb61cb91",
   "metadata": {},
   "outputs": [],
   "source": [
    "#3a.\n",
    "vendors_subset <- subset(vendors, vendor_category_id == 2)"
   ]
  },
  {
   "cell_type": "code",
   "execution_count": 71,
   "id": "b88d982d-ef48-42fe-9ebb-7a89b304ba59",
   "metadata": {
    "tags": []
   },
   "outputs": [],
   "source": [
    "mydf1 <- table(vendors_subset$delivery_charge)"
   ]
  },
  {
   "cell_type": "code",
   "execution_count": 72,
   "id": "37664e69-a4ee-4462-a68d-c0d6bb4977eb",
   "metadata": {},
   "outputs": [
    {
     "data": {
      "text/plain": [
       "\n",
       "               0              0.7 \n",
       "39.3258426966292 60.6741573033708 "
      ]
     },
     "metadata": {},
     "output_type": "display_data"
    }
   ],
   "source": [
    "prop.table(mydf1) * 100"
   ]
  },
  {
   "cell_type": "code",
   "execution_count": 73,
   "id": "47fec772-ece1-4491-8f03-0cedc27952e9",
   "metadata": {},
   "outputs": [],
   "source": [
    "#3b.\n",
    "vendors_subset1 <- subset(vendors, vendor_category_id == 3)"
   ]
  },
  {
   "cell_type": "code",
   "execution_count": 74,
   "id": "29a203e1-3231-4c2c-98e5-7a7373ffdc08",
   "metadata": {
    "tags": []
   },
   "outputs": [],
   "source": [
    "mydf2 <- table(vendors_subset1$delivery_charge)"
   ]
  },
  {
   "cell_type": "code",
   "execution_count": 75,
   "id": "c96899e7-76ef-4dad-b20f-df6f8df5650a",
   "metadata": {},
   "outputs": [
    {
     "data": {
      "text/plain": [
       "\n",
       "               0              0.7 \n",
       "54.5454545454545 45.4545454545455 "
      ]
     },
     "metadata": {},
     "output_type": "display_data"
    }
   ],
   "source": [
    "prop.table(mydf2) * 100"
   ]
  },
  {
   "cell_type": "markdown",
   "id": "da22f29c-d245-4d2b-9fc1-ca14cb6087d9",
   "metadata": {},
   "source": [
    "## Question 4"
   ]
  },
  {
   "cell_type": "code",
   "execution_count": 76,
   "id": "8e47d319-7693-4bc5-9049-8e61617ca8a5",
   "metadata": {
    "tags": []
   },
   "outputs": [
    {
     "data": {
      "text/plain": [
       "$`2`\n",
       "\n",
       "  0 0.7 \n",
       " 35  54 \n",
       "\n",
       "$`3`\n",
       "\n",
       "  0 0.7 \n",
       "  6   5 \n"
      ]
     },
     "metadata": {},
     "output_type": "display_data"
    }
   ],
   "source": [
    "#4a.\n",
    "tapply(vendors$delivery_charge, vendors$vendor_category_id, table)"
   ]
  },
  {
   "cell_type": "code",
   "execution_count": 77,
   "id": "738fe8c9-349f-41cd-8f7d-aa59efb8f43c",
   "metadata": {
    "tags": []
   },
   "outputs": [
    {
     "data": {
      "text/plain": [
       "$`2`\n",
       "x\n",
       "               0              0.7 \n",
       "39.3258426966292 60.6741573033708 \n",
       "\n",
       "$`3`\n",
       "x\n",
       "               0              0.7 \n",
       "54.5454545454545 45.4545454545455 \n"
      ]
     },
     "metadata": {},
     "output_type": "display_data"
    }
   ],
   "source": [
    "#4b.\n",
    "tapply(vendors$delivery_charge, vendors$vendor_category_id, function(x) {prop.table(table(x)) * 100})"
   ]
  },
  {
   "cell_type": "markdown",
   "id": "88c9cdac-3e92-498f-83fa-e089bfc44ac8",
   "metadata": {},
   "source": [
    "## Question 5"
   ]
  },
  {
   "cell_type": "code",
   "execution_count": 78,
   "id": "d370d7c9-06db-42b9-b75f-240481a5c491",
   "metadata": {},
   "outputs": [
    {
     "data": {
      "text/plain": [
       "$`2`\n",
       "\n",
       "               0              0.7 \n",
       "39.3258426966292 60.6741573033708 \n",
       "\n",
       "$`3`\n",
       "\n",
       "               0              0.7 \n",
       "54.5454545454545 45.4545454545455 \n"
      ]
     },
     "metadata": {},
     "output_type": "display_data"
    }
   ],
   "source": [
    "#5a.\n",
    "sapply(tapply(vendors$delivery_charge, vendors$vendor_category_id, table), function(x){prop.table(x) * 100}, simplify = FALSE)"
   ]
  },
  {
   "cell_type": "markdown",
   "id": "f76442d6-d02e-4f26-b9d6-c3183e1d6929",
   "metadata": {},
   "source": [
    "## Pledge\n",
    "\n",
    "By submitting this work I hereby pledge that this is my own, personal work. I've acknowledged in the designated place at the top of this file all sources that I used to complete said work, including but not limited to: online resources, books, and electronic communications. I've noted all collaboration with fellow students and/or TA's. I did not copy or plagiarize another's work.\n",
    "\n",
    "> As a Boilermaker pursuing academic excellence, I pledge to be honest and true in all that I do. Accountable together – We are Purdue."
   ]
  }
 ],
 "metadata": {
  "kernelspec": {
   "display_name": "seminar-r",
   "language": "R",
   "name": "seminar-r"
  },
  "language_info": {
   "codemirror_mode": "r",
   "file_extension": ".r",
   "mimetype": "text/x-r-source",
   "name": "R",
   "pygments_lexer": "r",
   "version": "4.3.1"
  }
 },
 "nbformat": 4,
 "nbformat_minor": 5
}
