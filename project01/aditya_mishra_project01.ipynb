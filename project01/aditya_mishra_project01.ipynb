{
 "cells": [
  {
   "cell_type": "markdown",
   "id": "be02a957-7133-4d02-818e-fedeb3cecb05",
   "metadata": {},
   "source": [
    "# Project 1 -- Aditya Mishra"
   ]
  },
  {
   "cell_type": "markdown",
   "id": "a1228853-dd19-4ab2-89e0-0394d7d72de3",
   "metadata": {},
   "source": [
    "**TA Help:** N/A\n",
    "   \n",
    "**Collaboration:** N/A"
   ]
  },
  {
   "cell_type": "markdown",
   "id": "6180e742-8e39-4698-98ff-5b00c8cf8ea0",
   "metadata": {},
   "source": [
    "## Question 1"
   ]
  },
  {
   "cell_type": "markdown",
   "id": "b456e57c-4a12-464b-999a-ef2df5af80c1",
   "metadata": {},
   "source": [
    "Ans 1A. Anvil's subcluster A has 1000 nodes with 128 cores per node and 256 GB memory per node. Hence, the total number of cores are 128 x 1000 = 128000 nodes and the total memory is 256 x 1000 = 256000 GB of memory.\n",
    "\n",
    "Ans 1B. My PC has 8 cores and 16 GB of RAM (15.6 GB usable)."
   ]
  },
  {
   "cell_type": "markdown",
   "id": "fc601975-35ed-4680-a4e1-0273ee3cc047",
   "metadata": {},
   "source": [
    "## Question 2"
   ]
  },
  {
   "cell_type": "code",
   "execution_count": 10,
   "id": "a16336a1-1ef0-41e8-bc7c-49387db27497",
   "metadata": {},
   "outputs": [
    {
     "name": "stdout",
     "output_type": "stream",
     "text": [
      "a240.anvil.rcac.purdue.edu\n"
     ]
    }
   ],
   "source": [
    "#2A. In Python\n",
    "\n",
    "import socket\n",
    "print(socket.gethostname())"
   ]
  },
  {
   "cell_type": "markdown",
   "id": "c65a0e34-3b92-4bbb-84bc-7a3d1c54d5bb",
   "metadata": {},
   "source": [
    "Using Python, the name of the node we are using on Anvil is \"a240.anvil.rcac.purdue.edu\"."
   ]
  },
  {
   "cell_type": "code",
   "execution_count": 11,
   "id": "34958a23-94aa-4bea-beb3-43e06db71060",
   "metadata": {},
   "outputs": [
    {
     "name": "stdout",
     "output_type": "stream",
     "text": [
      "a240.anvil.rcac.purdue.edu\n"
     ]
    }
   ],
   "source": [
    "%%bash\n",
    "\n",
    "#2B. In Bash\n",
    "\n",
    "hostname"
   ]
  },
  {
   "cell_type": "markdown",
   "id": "14dc22d4-ddc3-41cc-a91a-cb0025bc0c80",
   "metadata": {},
   "source": [
    "Using Bash, the name of the node we are using on Anvil is \"a240.anvil.rcac.purdue.edu\"."
   ]
  },
  {
   "cell_type": "code",
   "execution_count": 18,
   "id": "05dde285-3d5c-4241-8a04-977f836bafeb",
   "metadata": {},
   "outputs": [
    {
     "name": "stdout",
     "output_type": "stream",
     "text": [
      "[1] \"a240.anvil.rcac.purdue.edu\"\n"
     ]
    }
   ],
   "source": [
    "%%R\n",
    "\n",
    "#2C. In R\n",
    "\n",
    "system(\"hostname\", intern=TRUE)"
   ]
  },
  {
   "cell_type": "markdown",
   "id": "3889d0be-d05e-4d87-bdbc-1fcbea435154",
   "metadata": {},
   "source": [
    "Using R, the name of the node we are using on Anvil is \"a240.anvil.rcac.purdue.edu\"."
   ]
  },
  {
   "cell_type": "markdown",
   "id": "8e586edd-ff26-4ce2-8f6b-2424b26f2929",
   "metadata": {},
   "source": [
    "## Question 3"
   ]
  },
  {
   "cell_type": "code",
   "execution_count": 30,
   "id": "bbe0f40d-9655-4653-9ca8-886bdb61cb91",
   "metadata": {},
   "outputs": [],
   "source": [
    "import pandas as pd\n",
    "df = pd.read_csv('/anvil/projects/tdm/data/flights/subset/1991.csv')\n"
   ]
  },
  {
   "cell_type": "code",
   "execution_count": 31,
   "id": "bf69f128-707e-40fe-9fe5-0e8e12a12ac2",
   "metadata": {},
   "outputs": [
    {
     "data": {
      "text/html": [
       "<div>\n",
       "<style scoped>\n",
       "    .dataframe tbody tr th:only-of-type {\n",
       "        vertical-align: middle;\n",
       "    }\n",
       "\n",
       "    .dataframe tbody tr th {\n",
       "        vertical-align: top;\n",
       "    }\n",
       "\n",
       "    .dataframe thead th {\n",
       "        text-align: right;\n",
       "    }\n",
       "</style>\n",
       "<table border=\"1\" class=\"dataframe\">\n",
       "  <thead>\n",
       "    <tr style=\"text-align: right;\">\n",
       "      <th></th>\n",
       "      <th>Year</th>\n",
       "      <th>Month</th>\n",
       "      <th>DayofMonth</th>\n",
       "      <th>DayOfWeek</th>\n",
       "      <th>DepTime</th>\n",
       "      <th>CRSDepTime</th>\n",
       "      <th>ArrTime</th>\n",
       "      <th>CRSArrTime</th>\n",
       "      <th>UniqueCarrier</th>\n",
       "      <th>FlightNum</th>\n",
       "      <th>...</th>\n",
       "      <th>TaxiIn</th>\n",
       "      <th>TaxiOut</th>\n",
       "      <th>Cancelled</th>\n",
       "      <th>CancellationCode</th>\n",
       "      <th>Diverted</th>\n",
       "      <th>CarrierDelay</th>\n",
       "      <th>WeatherDelay</th>\n",
       "      <th>NASDelay</th>\n",
       "      <th>SecurityDelay</th>\n",
       "      <th>LateAircraftDelay</th>\n",
       "    </tr>\n",
       "  </thead>\n",
       "  <tbody>\n",
       "    <tr>\n",
       "      <th>4657380</th>\n",
       "      <td>1991</td>\n",
       "      <td>12</td>\n",
       "      <td>29</td>\n",
       "      <td>7</td>\n",
       "      <td>1631.0</td>\n",
       "      <td>1630</td>\n",
       "      <td>1829.0</td>\n",
       "      <td>1828</td>\n",
       "      <td>UA</td>\n",
       "      <td>1770</td>\n",
       "      <td>...</td>\n",
       "      <td>NaN</td>\n",
       "      <td>NaN</td>\n",
       "      <td>0</td>\n",
       "      <td>NaN</td>\n",
       "      <td>0</td>\n",
       "      <td>NaN</td>\n",
       "      <td>NaN</td>\n",
       "      <td>NaN</td>\n",
       "      <td>NaN</td>\n",
       "      <td>NaN</td>\n",
       "    </tr>\n",
       "    <tr>\n",
       "      <th>4657381</th>\n",
       "      <td>1991</td>\n",
       "      <td>12</td>\n",
       "      <td>30</td>\n",
       "      <td>1</td>\n",
       "      <td>1630.0</td>\n",
       "      <td>1630</td>\n",
       "      <td>1823.0</td>\n",
       "      <td>1828</td>\n",
       "      <td>UA</td>\n",
       "      <td>1770</td>\n",
       "      <td>...</td>\n",
       "      <td>NaN</td>\n",
       "      <td>NaN</td>\n",
       "      <td>0</td>\n",
       "      <td>NaN</td>\n",
       "      <td>0</td>\n",
       "      <td>NaN</td>\n",
       "      <td>NaN</td>\n",
       "      <td>NaN</td>\n",
       "      <td>NaN</td>\n",
       "      <td>NaN</td>\n",
       "    </tr>\n",
       "    <tr>\n",
       "      <th>4657382</th>\n",
       "      <td>1991</td>\n",
       "      <td>12</td>\n",
       "      <td>31</td>\n",
       "      <td>2</td>\n",
       "      <td>1628.0</td>\n",
       "      <td>1630</td>\n",
       "      <td>1820.0</td>\n",
       "      <td>1828</td>\n",
       "      <td>UA</td>\n",
       "      <td>1770</td>\n",
       "      <td>...</td>\n",
       "      <td>NaN</td>\n",
       "      <td>NaN</td>\n",
       "      <td>0</td>\n",
       "      <td>NaN</td>\n",
       "      <td>0</td>\n",
       "      <td>NaN</td>\n",
       "      <td>NaN</td>\n",
       "      <td>NaN</td>\n",
       "      <td>NaN</td>\n",
       "      <td>NaN</td>\n",
       "    </tr>\n",
       "    <tr>\n",
       "      <th>4657383</th>\n",
       "      <td>1991</td>\n",
       "      <td>12</td>\n",
       "      <td>1</td>\n",
       "      <td>7</td>\n",
       "      <td>1922.0</td>\n",
       "      <td>1922</td>\n",
       "      <td>2040.0</td>\n",
       "      <td>2045</td>\n",
       "      <td>UA</td>\n",
       "      <td>1774</td>\n",
       "      <td>...</td>\n",
       "      <td>NaN</td>\n",
       "      <td>NaN</td>\n",
       "      <td>0</td>\n",
       "      <td>NaN</td>\n",
       "      <td>0</td>\n",
       "      <td>NaN</td>\n",
       "      <td>NaN</td>\n",
       "      <td>NaN</td>\n",
       "      <td>NaN</td>\n",
       "      <td>NaN</td>\n",
       "    </tr>\n",
       "    <tr>\n",
       "      <th>4657384</th>\n",
       "      <td>1991</td>\n",
       "      <td>12</td>\n",
       "      <td>2</td>\n",
       "      <td>1</td>\n",
       "      <td>2005.0</td>\n",
       "      <td>1922</td>\n",
       "      <td>2119.0</td>\n",
       "      <td>2045</td>\n",
       "      <td>UA</td>\n",
       "      <td>1774</td>\n",
       "      <td>...</td>\n",
       "      <td>NaN</td>\n",
       "      <td>NaN</td>\n",
       "      <td>0</td>\n",
       "      <td>NaN</td>\n",
       "      <td>0</td>\n",
       "      <td>NaN</td>\n",
       "      <td>NaN</td>\n",
       "      <td>NaN</td>\n",
       "      <td>NaN</td>\n",
       "      <td>NaN</td>\n",
       "    </tr>\n",
       "  </tbody>\n",
       "</table>\n",
       "<p>5 rows × 29 columns</p>\n",
       "</div>"
      ],
      "text/plain": [
       "         Year  Month  DayofMonth  DayOfWeek  DepTime  CRSDepTime  ArrTime  \\\n",
       "4657380  1991     12          29          7   1631.0        1630   1829.0   \n",
       "4657381  1991     12          30          1   1630.0        1630   1823.0   \n",
       "4657382  1991     12          31          2   1628.0        1630   1820.0   \n",
       "4657383  1991     12           1          7   1922.0        1922   2040.0   \n",
       "4657384  1991     12           2          1   2005.0        1922   2119.0   \n",
       "\n",
       "         CRSArrTime UniqueCarrier  FlightNum  ...  TaxiIn  TaxiOut  Cancelled  \\\n",
       "4657380        1828            UA       1770  ...     NaN      NaN          0   \n",
       "4657381        1828            UA       1770  ...     NaN      NaN          0   \n",
       "4657382        1828            UA       1770  ...     NaN      NaN          0   \n",
       "4657383        2045            UA       1774  ...     NaN      NaN          0   \n",
       "4657384        2045            UA       1774  ...     NaN      NaN          0   \n",
       "\n",
       "         CancellationCode  Diverted  CarrierDelay WeatherDelay NASDelay  \\\n",
       "4657380               NaN         0           NaN          NaN      NaN   \n",
       "4657381               NaN         0           NaN          NaN      NaN   \n",
       "4657382               NaN         0           NaN          NaN      NaN   \n",
       "4657383               NaN         0           NaN          NaN      NaN   \n",
       "4657384               NaN         0           NaN          NaN      NaN   \n",
       "\n",
       "         SecurityDelay  LateAircraftDelay  \n",
       "4657380            NaN                NaN  \n",
       "4657381            NaN                NaN  \n",
       "4657382            NaN                NaN  \n",
       "4657383            NaN                NaN  \n",
       "4657384            NaN                NaN  \n",
       "\n",
       "[5 rows x 29 columns]"
      ]
     },
     "execution_count": 31,
     "metadata": {},
     "output_type": "execute_result"
    }
   ],
   "source": [
    "df[df[\"Month\"]==12].head() # see information about a few of the flights from December 1991"
   ]
  },
  {
   "cell_type": "code",
   "execution_count": 32,
   "id": "ec84c9d4-6262-47bb-8968-1ca8dbf87f08",
   "metadata": {},
   "outputs": [],
   "source": [
    "%%sql \n",
    "\n",
    "sqlite:////anvil/projects/tdm/data/movies_and_tv/imdb.db\n"
   ]
  },
  {
   "cell_type": "code",
   "execution_count": 33,
   "id": "3248903e-0d0c-42c9-b9b9-2bb460f1e820",
   "metadata": {},
   "outputs": [
    {
     "name": "stdout",
     "output_type": "stream",
     "text": [
      " * sqlite:////anvil/projects/tdm/data/movies_and_tv/imdb.db\n",
      "Done.\n"
     ]
    },
    {
     "data": {
      "text/html": [
       "<table>\n",
       "    <tr>\n",
       "        <th>episode_title_id</th>\n",
       "        <th>show_title_id</th>\n",
       "        <th>season_number</th>\n",
       "        <th>episode_number</th>\n",
       "        <th>title_id</th>\n",
       "        <th>type</th>\n",
       "        <th>primary_title</th>\n",
       "        <th>original_title</th>\n",
       "        <th>is_adult</th>\n",
       "        <th>premiered</th>\n",
       "        <th>ended</th>\n",
       "        <th>runtime_minutes</th>\n",
       "        <th>genres</th>\n",
       "    </tr>\n",
       "    <tr>\n",
       "        <td>tt0506978</td>\n",
       "        <td>tt0285332</td>\n",
       "        <td>1</td>\n",
       "        <td>22</td>\n",
       "        <td>tt0506978</td>\n",
       "        <td>tvEpisode</td>\n",
       "        <td>Finale</td>\n",
       "        <td>Finale</td>\n",
       "        <td>0</td>\n",
       "        <td>2002</td>\n",
       "        <td>None</td>\n",
       "        <td>None</td>\n",
       "        <td>Drama,Thriller</td>\n",
       "    </tr>\n",
       "    <tr>\n",
       "        <td>tt0519805</td>\n",
       "        <td>tt0210405</td>\n",
       "        <td>3</td>\n",
       "        <td>10</td>\n",
       "        <td>tt0519805</td>\n",
       "        <td>tvEpisode</td>\n",
       "        <td>Finale</td>\n",
       "        <td>Finale</td>\n",
       "        <td>0</td>\n",
       "        <td>1993</td>\n",
       "        <td>None</td>\n",
       "        <td>None</td>\n",
       "        <td>Drama</td>\n",
       "    </tr>\n",
       "    <tr>\n",
       "        <td>tt0566236</td>\n",
       "        <td>tt0169438</td>\n",
       "        <td>8</td>\n",
       "        <td>31</td>\n",
       "        <td>tt0566236</td>\n",
       "        <td>tvEpisode</td>\n",
       "        <td>Finale</td>\n",
       "        <td>Finale</td>\n",
       "        <td>0</td>\n",
       "        <td>2005</td>\n",
       "        <td>None</td>\n",
       "        <td>None</td>\n",
       "        <td>Drama,Sport</td>\n",
       "    </tr>\n",
       "    <tr>\n",
       "        <td>tt0566422</td>\n",
       "        <td>tt0111945</td>\n",
       "        <td>9</td>\n",
       "        <td>26</td>\n",
       "        <td>tt0566422</td>\n",
       "        <td>tvEpisode</td>\n",
       "        <td>Finale</td>\n",
       "        <td>Finale</td>\n",
       "        <td>0</td>\n",
       "        <td>2004</td>\n",
       "        <td>None</td>\n",
       "        <td>None</td>\n",
       "        <td>Comedy,Drama</td>\n",
       "    </tr>\n",
       "    <tr>\n",
       "        <td>tt0581864</td>\n",
       "        <td>tt0044263</td>\n",
       "        <td>2</td>\n",
       "        <td>1</td>\n",
       "        <td>tt0581864</td>\n",
       "        <td>tvEpisode</td>\n",
       "        <td>Finale</td>\n",
       "        <td>Finale</td>\n",
       "        <td>0</td>\n",
       "        <td>1953</td>\n",
       "        <td>None</td>\n",
       "        <td>30</td>\n",
       "        <td>Comedy,Crime,Drama</td>\n",
       "    </tr>\n",
       "</table>"
      ],
      "text/plain": [
       "[('tt0506978', 'tt0285332', 1, 22, 'tt0506978', 'tvEpisode', 'Finale', 'Finale', 0, 2002, None, None, 'Drama,Thriller'),\n",
       " ('tt0519805', 'tt0210405', 3, 10, 'tt0519805', 'tvEpisode', 'Finale', 'Finale', 0, 1993, None, None, 'Drama'),\n",
       " ('tt0566236', 'tt0169438', 8, 31, 'tt0566236', 'tvEpisode', 'Finale', 'Finale', 0, 2005, None, None, 'Drama,Sport'),\n",
       " ('tt0566422', 'tt0111945', 9, 26, 'tt0566422', 'tvEpisode', 'Finale', 'Finale', 0, 2004, None, None, 'Comedy,Drama'),\n",
       " ('tt0581864', 'tt0044263', 2, 1, 'tt0581864', 'tvEpisode', 'Finale', 'Finale', 0, 1953, None, 30, 'Comedy,Crime,Drama')]"
      ]
     },
     "execution_count": 33,
     "metadata": {},
     "output_type": "execute_result"
    }
   ],
   "source": [
    "%%sql\n",
    "\n",
    "-- see information about a few TV episodes called \"Finale\"\n",
    "SELECT *\n",
    "FROM episodes AS e\n",
    "INNER JOIN titles AS t\n",
    "ON t.title_id = e.episode_title_id\n",
    "WHERE t.primary_title = 'Finale'\n",
    "LIMIT 5;"
   ]
  },
  {
   "cell_type": "code",
   "execution_count": 17,
   "id": "62dc9ba8-2d69-47bb-bbe6-0345ac3b5131",
   "metadata": {},
   "outputs": [
    {
     "name": "stdout",
     "output_type": "stream",
     "text": [
      "Arthur Morgan\n",
      "John Marston\n"
     ]
    }
   ],
   "source": [
    "%%bash\n",
    "\n",
    "names=\"John Doe;Bill Withers;Arthur Morgan;Mary Jane;Rick Ross;John Marston\"\n",
    "echo $names | cut -d ';' -f 3\n",
    "echo $names | cut -d ';' -f 6"
   ]
  },
  {
   "cell_type": "markdown",
   "id": "da22f29c-d245-4d2b-9fc1-ca14cb6087d9",
   "metadata": {},
   "source": [
    "## Question 4"
   ]
  },
  {
   "cell_type": "code",
   "execution_count": 23,
   "id": "8cffc767-d1c8-4d64-b7dc-f0d2ee8a80d1",
   "metadata": {},
   "outputs": [
    {
     "name": "stdout",
     "output_type": "stream",
     "text": [
      "The memory of Anvil subcluster A is 256000000000000 bytes.\n",
      "The memory of Anvil subcluster A is 256.0 terabytes.\n"
     ]
    }
   ],
   "source": [
    "#Ans 4A. In Python\n",
    "\n",
    "mem = 256000 #Memory in Anvil subcluster A in GB\n",
    "gb_to_b = 1000000000 #Conversion factor from GB to Bytes\n",
    "gb_to_tb = 1000 #Conversion factor from GB to TB\n",
    "\n",
    "memb = str(mem * gb_to_b)\n",
    "memtb = str(mem / gb_to_tb)\n",
    "\n",
    "print(\"The memory of Anvil subcluster A is \" + memb + \" bytes.\")\n",
    "print(\"The memory of Anvil subcluster A is \" + memtb + \" terabytes.\")"
   ]
  },
  {
   "cell_type": "code",
   "execution_count": 29,
   "id": "61110dee-acb0-4f16-9c29-43ea4460df32",
   "metadata": {},
   "outputs": [
    {
     "name": "stdout",
     "output_type": "stream",
     "text": [
      "[1] \"The memory of Anvil subcluster A is 2.56e+14 bytes.\"\n",
      "[1] \"The memory of Anvil subcluster A is 256 terabytes.\"\n"
     ]
    }
   ],
   "source": [
    "%%R\n",
    "\n",
    "#Ans 4A. In R\n",
    "\n",
    "mem <- 256000 #Memory in Anvil subcluster A in GB\n",
    "gb_to_b <- 1000000000 #Conversion factor from GB to Bytes\n",
    "gb_to_tb <- 1000 #Conversion factor from GB to TB\n",
    "\n",
    "memb <- mem * gb_to_b\n",
    "memtb <- mem / gb_to_tb\n",
    "\n",
    "print(paste(\"The memory of Anvil subcluster A is\", memb, \"bytes.\"))\n",
    "print(paste(\"The memory of Anvil subcluster A is\", memtb, \"terabytes.\"))\n"
   ]
  },
  {
   "cell_type": "markdown",
   "id": "88c9cdac-3e92-498f-83fa-e089bfc44ac8",
   "metadata": {},
   "source": [
    "## Question 5"
   ]
  },
  {
   "cell_type": "code",
   "execution_count": 57,
   "id": "d370d7c9-06db-42b9-b75f-240481a5c491",
   "metadata": {},
   "outputs": [],
   "source": [
    "%%R\n",
    "\n",
    "dat <- read.csv(\"/anvil/projects/tdm/data/disney/flight_of_passage.csv\")"
   ]
  },
  {
   "cell_type": "code",
   "execution_count": 58,
   "id": "30225c53-abd7-44e0-9e14-e5a7aca6a0ba",
   "metadata": {},
   "outputs": [
    {
     "name": "stdout",
     "output_type": "stream",
     "text": [
      "        date            datetime SACTMIN SPOSTMIN\n",
      "1 05/26/2017 2017-05-26 09:06:38      NA     -999\n",
      "2 05/26/2017 2017-05-26 09:10:11      47       NA\n",
      "3 05/26/2017 2017-05-26 09:10:12      NA        5\n",
      "4 05/26/2017 2017-05-26 09:17:09      NA       60\n",
      "5 05/26/2017 2017-05-26 09:24:07      NA       60\n",
      "6 05/26/2017 2017-05-26 09:30:10      NA       60\n"
     ]
    }
   ],
   "source": [
    "%%R\n",
    "\n",
    "head(dat)"
   ]
  },
  {
   "cell_type": "code",
   "execution_count": 59,
   "id": "c7328202-bcf4-4217-a1c2-923bed599dbd",
   "metadata": {},
   "outputs": [],
   "source": [
    "%%R\n",
    "\n",
    "flight_of_passage <- dat\n",
    "\n",
    "rm(dat)"
   ]
  },
  {
   "cell_type": "code",
   "execution_count": 60,
   "id": "3e6780c5-c7e2-4da7-9975-c5522399caf9",
   "metadata": {},
   "outputs": [
    {
     "name": "stdout",
     "output_type": "stream",
     "text": [
      "        date            datetime SACTMIN SPOSTMIN\n",
      "1 05/26/2017 2017-05-26 09:06:38      NA     -999\n",
      "2 05/26/2017 2017-05-26 09:10:11      47       NA\n",
      "3 05/26/2017 2017-05-26 09:10:12      NA        5\n",
      "4 05/26/2017 2017-05-26 09:17:09      NA       60\n",
      "5 05/26/2017 2017-05-26 09:24:07      NA       60\n",
      "6 05/26/2017 2017-05-26 09:30:10      NA       60\n"
     ]
    }
   ],
   "source": [
    "%%R\n",
    "\n",
    "head(flight_of_passage)"
   ]
  },
  {
   "cell_type": "markdown",
   "id": "f76442d6-d02e-4f26-b9d6-c3183e1d6929",
   "metadata": {},
   "source": [
    "## Pledge\n",
    "\n",
    "By submitting this work I hereby pledge that this is my own, personal work. I've acknowledged in the designated place at the top of this file all sources that I used to complete said work, including but not limited to: online resources, books, and electronic communications. I've noted all collaboration with fellow students and/or TA's. I did not copy or plagiarize another's work.\n",
    "\n",
    "> As a Boilermaker pursuing academic excellence, I pledge to be honest and true in all that I do. Accountable together – We are Purdue."
   ]
  }
 ],
 "metadata": {
  "kernelspec": {
   "display_name": "seminar",
   "language": "python",
   "name": "seminar"
  },
  "language_info": {
   "codemirror_mode": {
    "name": "ipython",
    "version": 3
   },
   "file_extension": ".py",
   "mimetype": "text/x-python",
   "name": "python",
   "nbconvert_exporter": "python",
   "pygments_lexer": "ipython3",
   "version": "3.11.3"
  }
 },
 "nbformat": 4,
 "nbformat_minor": 5
}
