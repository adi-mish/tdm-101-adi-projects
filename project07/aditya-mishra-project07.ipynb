{
 "cells": [
  {
   "cell_type": "markdown",
   "id": "be02a957-7133-4d02-818e-fedeb3cecb05",
   "metadata": {},
   "source": [
    "# Project 7 -- Aditya Mishra"
   ]
  },
  {
   "cell_type": "markdown",
   "id": "a1228853-dd19-4ab2-89e0-0394d7d72de3",
   "metadata": {},
   "source": [
    "**TA Help:** N/A\n",
    "    \n",
    "**Collaboration:** N/A "
   ]
  },
  {
   "cell_type": "code",
   "execution_count": 1,
   "id": "50720b18-0a57-4d48-a76a-9ddaeb97ffa3",
   "metadata": {},
   "outputs": [],
   "source": [
    "options(jupyter.rich_display = F)"
   ]
  },
  {
   "cell_type": "code",
   "execution_count": 2,
   "id": "384681e6-cef6-4dc9-ae67-e55bf7980463",
   "metadata": {},
   "outputs": [],
   "source": [
    "library(data.table)\n",
    "\n",
    "products <- fread(\"/anvil/projects/tdm/data/icecream/combined/products.csv\")\n",
    "reviews <- fread(\"/anvil/projects/tdm/data/icecream/combined/reviews.csv\")\n",
    "titles <- fread(\"/anvil/projects/tdm/data/movies_and_tv/titles.csv\")\n",
    "episodes <- fread(\"/anvil/projects/tdm/data/movies_and_tv/episodes.csv\")\n",
    "ratings <- fread(\"/anvil/projects/tdm/data/movies_and_tv/ratings.csv\")"
   ]
  },
  {
   "cell_type": "markdown",
   "id": "6180e742-8e39-4698-98ff-5b00c8cf8ea0",
   "metadata": {},
   "source": [
    "## Question 1"
   ]
  },
  {
   "cell_type": "code",
   "execution_count": 5,
   "id": "49445606-d363-41b4-b479-e319a9a84c01",
   "metadata": {},
   "outputs": [
    {
     "data": {
      "text/plain": [
       "[1] \"CREAM, SKIM MILK, LIQUID SUGAR (SUGAR, WATER), WATER, BROWN SUGAR, SUGAR, MILK, WHEAT FLOUR, EGG YOLKS, CORN SYRUP, EGGS, BUTTER (CREAM, SALT), BUTTEROIL, PECTIN, SEA SALT, SOYBEAN OIL, VANILLA EXTRACT, GUAR GUM, SOY LECITHIN, BAKING POWDER (SODIUM ACID PYROPHOSPHATE, SODIUM BICARBONATE, CORN STARCH, MONOCALCIUM PHOSPHATE), BAKING SODA, SALT, CARRAGEENAN, LACTASE\""
      ]
     },
     "metadata": {},
     "output_type": "display_data"
    }
   ],
   "source": [
    "#1a.\n",
    "head(products$ingredients, n = 1)"
   ]
  },
  {
   "cell_type": "code",
   "execution_count": 13,
   "id": "7e92b43c-f819-49ae-b5e6-b2496b938923",
   "metadata": {},
   "outputs": [
    {
     "data": {
      "text/plain": [
       " [1] 5.0 5.0 4.9 4.9 4.9 4.9 4.8 4.8 4.8 4.8 4.8 4.7 4.7 4.7 4.7 4.7 4.7 4.7 4.7\n",
       "[20] 4.7 4.7 4.7 4.7 4.7 4.7 4.7 4.7 4.7 4.6 4.6 4.6 4.6 4.6 4.6 4.6 4.6 4.6 4.6\n",
       "[39] 4.5 4.5 4.5 4.5 4.5 4.4 4.4 4.4 4.4 4.4 4.4 4.4 4.3 4.3 4.3 4.3 4.3 4.3 4.2\n",
       "[58] 4.2 4.2 4.2 4.1 4.1 4.0 4.0 4.0 3.9 3.9 3.9 3.9 3.9 3.8 3.8 3.7 3.6 3.5 3.4\n",
       "[77] 3.4 3.3 3.3 3.3 3.3 3.2 2.9 2.8 1.8"
      ]
     },
     "metadata": {},
     "output_type": "display_data"
    }
   ],
   "source": [
    "#1b.\n",
    "products1 <- products[grepl(\"GUAR GUM\", products$ingredients),]\n",
    "sort(products1$rating, decreasing = TRUE)"
   ]
  },
  {
   "cell_type": "markdown",
   "id": "fc601975-35ed-4680-a4e1-0273ee3cc047",
   "metadata": {},
   "source": [
    "## Question 2"
   ]
  },
  {
   "cell_type": "code",
   "execution_count": 14,
   "id": "a16336a1-1ef0-41e8-bc7c-49387db27497",
   "metadata": {},
   "outputs": [],
   "source": [
    "#2a.\n",
    "bigDF <- merge(products, reviews, by = c(\"brand\", \"key\"))"
   ]
  },
  {
   "cell_type": "markdown",
   "id": "8e586edd-ff26-4ce2-8f6b-2424b26f2929",
   "metadata": {
    "tags": []
   },
   "source": [
    "## Question 3"
   ]
  },
  {
   "cell_type": "code",
   "execution_count": 18,
   "id": "bbe0f40d-9655-4653-9ca8-886bdb61cb91",
   "metadata": {
    "tags": []
   },
   "outputs": [],
   "source": [
    "#3a.\n",
    "StrangerThingsDF <- subset(episodes, show_title_id == \"tt4574334\")"
   ]
  },
  {
   "cell_type": "code",
   "execution_count": 24,
   "id": "3d3a8734-ca83-4b61-95fb-2dd0577ba38f",
   "metadata": {},
   "outputs": [],
   "source": [
    "bigDF <- merge(merge(merge(merge(StrangerThingsDF, titles, by.x = \"show_title_id\", by.y = \"title_id\"), \n",
    "                                    titles, by.x = \"episode_title_id\", by.y = \"title_id\"), \n",
    "                                    ratings, by.x = \"show_title_id\", by.y = \"title_id\"),\n",
    "                                    ratings, by.x = \"episode_title_id\", by.y = \"title_id\")"
   ]
  },
  {
   "cell_type": "code",
   "execution_count": 26,
   "id": "60f6d04a-e65f-4950-946f-d4813f3450e0",
   "metadata": {},
   "outputs": [
    {
     "data": {
      "text/plain": [
       "  episode_title_id show_title_id season_number episode_number type.x  \n",
       "1 tt6020808        tt4574334     2             6              tvSeries\n",
       "2 tt7911942        tt4574334     3             8              tvSeries\n",
       "3 tt4593138        tt4574334     1             8              tvSeries\n",
       "4 tt6020812        tt4574334     2             8              tvSeries\n",
       "5 tt6020876        tt4574334     2             9              tvSeries\n",
       "  primary_title.x original_title.x is_adult.x premiered.x ended.x ...\n",
       "1 Stranger Things Stranger Things  0          2016        NA      ...\n",
       "2 Stranger Things Stranger Things  0          2016        NA      ...\n",
       "3 Stranger Things Stranger Things  0          2016        NA      ...\n",
       "4 Stranger Things Stranger Things  0          2016        NA      ...\n",
       "5 Stranger Things Stranger Things  0          2016        NA      ...\n",
       "  original_title.y                       is_adult.y premiered.y ended.y\n",
       "1 Chapter Six: The Spy                   0          2017        NA     \n",
       "2 Chapter Eight: The Battle of Starcourt 0          2019        NA     \n",
       "3 Chapter Eight: The Upside Down         0          2016        NA     \n",
       "4 Chapter Eight: The Mind Flayer         0          2017        NA     \n",
       "5 Chapter Nine: The Gate                 0          2017        NA     \n",
       "  runtime_minutes.y genres.y             rating.x votes.x rating.y votes.y\n",
       "1 51                Drama,Fantasy,Horror 8.7      870577  9.2      15465  \n",
       "2 76                Drama,Fantasy,Horror 8.7      870577  9.2      22961  \n",
       "3 54                Drama,Fantasy,Horror 8.7      870577  9.3      19912  \n",
       "4 47                Drama,Fantasy,Horror 8.7      870577  9.3      16915  \n",
       "5 62                Drama,Fantasy,Horror 8.7      870577  9.4      19023  "
      ]
     },
     "metadata": {},
     "output_type": "display_data"
    }
   ],
   "source": [
    "tail(bigDF[order(bigDF$rating.y),], 5)"
   ]
  },
  {
   "cell_type": "markdown",
   "id": "da22f29c-d245-4d2b-9fc1-ca14cb6087d9",
   "metadata": {},
   "source": [
    "## Question 4"
   ]
  },
  {
   "cell_type": "code",
   "execution_count": 28,
   "id": "8cffc767-d1c8-4d64-b7dc-f0d2ee8a80d1",
   "metadata": {},
   "outputs": [
    {
     "data": {
      "text/plain": [
       "  episode_title_id show_title_id season_number episode_number type.x  \n",
       "1 tt7445494        tt4574334     3             1              tvSeries\n",
       "2 tt7640050        tt4574334     3             2              tvSeries\n",
       "3 tt7911866        tt4574334     3             3              tvSeries\n",
       "  primary_title.x original_title.x is_adult.x premiered.x ended.x ...\n",
       "1 Stranger Things Stranger Things  0          2016        NA      ...\n",
       "2 Stranger Things Stranger Things  0          2016        NA      ...\n",
       "3 Stranger Things Stranger Things  0          2016        NA      ...\n",
       "  original_title.y                                 is_adult.y premiered.y\n",
       "1 Chapter One: Suzie, Do You Copy?                 0          2019       \n",
       "2 Chapter Two: The Mall Rats                       0          2019       \n",
       "3 Chapter Three: The Case of the Missing Lifeguard 0          2019       \n",
       "  ended.y runtime_minutes.y genres.y             rating.x votes.x rating.y\n",
       "1 NA      50                Drama,Fantasy,Horror 8.7      870577  7.9     \n",
       "2 NA      50                Drama,Fantasy,Horror 8.7      870577  8.0     \n",
       "3 NA      49                Drama,Fantasy,Horror 8.7      870577  8.4     \n",
       "  votes.y\n",
       "1 16701  \n",
       "2 14982  \n",
       "3 14470  "
      ]
     },
     "metadata": {},
     "output_type": "display_data"
    }
   ],
   "source": [
    "#4a.\n",
    "bigDF[(bigDF$season_number == 3) & (bigDF$rating.y < 8.5),]"
   ]
  },
  {
   "cell_type": "code",
   "execution_count": 29,
   "id": "a480c756-c046-45ac-8340-d4681c14911c",
   "metadata": {},
   "outputs": [
    {
     "data": {
      "text/plain": [
       "  episode_title_id show_title_id season_number episode_number type.x  \n",
       "1 tt7445494        tt4574334     3             1              tvSeries\n",
       "2 tt7640050        tt4574334     3             2              tvSeries\n",
       "3 tt7911866        tt4574334     3             3              tvSeries\n",
       "  primary_title.x original_title.x is_adult.x premiered.x ended.x ...\n",
       "1 Stranger Things Stranger Things  0          2016        NA      ...\n",
       "2 Stranger Things Stranger Things  0          2016        NA      ...\n",
       "3 Stranger Things Stranger Things  0          2016        NA      ...\n",
       "  original_title.y                                 is_adult.y premiered.y\n",
       "1 Chapter One: Suzie, Do You Copy?                 0          2019       \n",
       "2 Chapter Two: The Mall Rats                       0          2019       \n",
       "3 Chapter Three: The Case of the Missing Lifeguard 0          2019       \n",
       "  ended.y runtime_minutes.y genres.y             rating.x votes.x rating.y\n",
       "1 NA      50                Drama,Fantasy,Horror 8.7      870577  7.9     \n",
       "2 NA      50                Drama,Fantasy,Horror 8.7      870577  8.0     \n",
       "3 NA      49                Drama,Fantasy,Horror 8.7      870577  8.4     \n",
       "  votes.y\n",
       "1 16701  \n",
       "2 14982  \n",
       "3 14470  "
      ]
     },
     "metadata": {},
     "output_type": "display_data"
    }
   ],
   "source": [
    "#4b.\n",
    "subset(bigDF, (season_number == 3) & (rating.y < 8.5))"
   ]
  },
  {
   "cell_type": "markdown",
   "id": "88c9cdac-3e92-498f-83fa-e089bfc44ac8",
   "metadata": {},
   "source": [
    "## Question 5"
   ]
  },
  {
   "cell_type": "markdown",
   "id": "9fbf00fb-2418-460f-ae94-2a32b0c28952",
   "metadata": {},
   "source": [
    "5a. The subset function uses a non standard evaluation of its expressions. Hence, on choosing the same variable name as a reference to the number \"3\" creates problems with the subset function as the program is confused between the name of the variable and the value with which it is supposed to compare the input variable to."
   ]
  },
  {
   "cell_type": "markdown",
   "id": "f76442d6-d02e-4f26-b9d6-c3183e1d6929",
   "metadata": {},
   "source": [
    "## Pledge\n",
    "\n",
    "By submitting this work I hereby pledge that this is my own, personal work. I've acknowledged in the designated place at the top of this file all sources that I used to complete said work, including but not limited to: online resources, books, and electronic communications. I've noted all collaboration with fellow students and/or TA's. I did not copy or plagiarize another's work.\n",
    "\n",
    "> As a Boilermaker pursuing academic excellence, I pledge to be honest and true in all that I do. Accountable together – We are Purdue."
   ]
  }
 ],
 "metadata": {
  "kernelspec": {
   "display_name": "seminar-r",
   "language": "R",
   "name": "seminar-r"
  },
  "language_info": {
   "codemirror_mode": "r",
   "file_extension": ".r",
   "mimetype": "text/x-r-source",
   "name": "R",
   "pygments_lexer": "r",
   "version": "4.3.1"
  }
 },
 "nbformat": 4,
 "nbformat_minor": 5
}
